{
 "cells": [
  {
   "cell_type": "code",
   "execution_count": null,
   "metadata": {},
   "outputs": [],
   "source": [
    "%load_ext autoreload\n",
    "%autoreload 2"
   ]
  },
  {
   "cell_type": "code",
   "execution_count": null,
   "metadata": {},
   "outputs": [],
   "source": [
    "import sys\n",
    "import os\n",
    "from pathlib import Path\n",
    "\n",
    "sys.path.append(\"..\")"
   ]
  },
  {
   "cell_type": "code",
   "execution_count": null,
   "metadata": {},
   "outputs": [],
   "source": [
    "from pypdf import PdfReader"
   ]
  },
  {
   "cell_type": "markdown",
   "metadata": {},
   "source": [
    "# vars init and dir prep"
   ]
  },
  {
   "cell_type": "code",
   "execution_count": null,
   "metadata": {},
   "outputs": [],
   "source": [
    "docs_to_analyze_dir = \"../docs-to-analyze\"\n",
    "\n",
    "root_file_platao = \"PLATAO__O_Banquete__Discurso_de_Socrates_Diotima\"\n",
    "\n",
    "file_platao_name = f\"{root_file_platao}.pdf\"\n",
    "file_platao_path = Path(docs_to_analyze_dir, file_platao_name)\n",
    "dir_platao_pages = Path(docs_to_analyze_dir, root_file_platao)\n",
    "\n",
    "extension_platao_images = \"jpeg\""
   ]
  },
  {
   "cell_type": "code",
   "execution_count": null,
   "metadata": {},
   "outputs": [],
   "source": [
    "os.mkdir(dir_platao_pages)"
   ]
  },
  {
   "cell_type": "markdown",
   "metadata": {},
   "source": [
    "# extracting images\n",
    "https://pypdf.readthedocs.io/en/stable/user/extract-images.html"
   ]
  },
  {
   "cell_type": "code",
   "execution_count": null,
   "metadata": {},
   "outputs": [],
   "source": [
    "platao_reader = PdfReader(file_platao_path)\n",
    "platao_pages = platao_reader.pages"
   ]
  },
  {
   "cell_type": "code",
   "execution_count": null,
   "metadata": {},
   "outputs": [],
   "source": [
    "for page_index, page in enumerate(platao_pages, start=1):\n",
    "    for image_index, image in enumerate(page.images, start=1):\n",
    "        image_filename = f\"{root_file_platao}_page_{page_index:03}_image_{image_index:03}.{extension_platao_images}\"\n",
    "        image_filepath = Path(dir_platao_pages, image_filename)\n",
    "        print(image_filepath)\n",
    "        with open(image_filepath, \"wb\") as f:\n",
    "            f.write(image.data)"
   ]
  },
  {
   "cell_type": "markdown",
   "metadata": {},
   "source": [
    "# manipulating images\n",
    "https://pillow.readthedocs.io/en/stable/reference/Image.html"
   ]
  },
  {
   "cell_type": "code",
   "execution_count": null,
   "metadata": {},
   "outputs": [],
   "source": [
    "from PIL import Image"
   ]
  },
  {
   "cell_type": "code",
   "execution_count": null,
   "metadata": {},
   "outputs": [],
   "source": [
    "rotated = \"rotated\"\n",
    "\n",
    "platao_pages = [Path(dir_platao_pages, image_file) for image_file in os.listdir(dir_platao_pages) if extension_platao_images in image_file]\n",
    "\n",
    "rotation_angle = 270\n",
    "dir_platao_pages_rotated_root = Path(dir_platao_pages, rotated)\n",
    "os.mkdir(dir_platao_pages_rotated_root)\n",
    "dir_platao_pages_rotated = Path(dir_platao_pages_rotated_root, str(rotation_angle))\n",
    "os.mkdir(dir_platao_pages_rotated)"
   ]
  },
  {
   "cell_type": "code",
   "execution_count": null,
   "metadata": {},
   "outputs": [],
   "source": [
    "for page in platao_pages:\n",
    "    with Image.open(page) as image:\n",
    "        rotated_image = image.rotate(\n",
    "            rotation_angle\n",
    "        )\n",
    "        rotated_image.show()\n",
    "        # rotated_image.save(\n",
    "        #     Path(dir_platao_pages_rotated, page.name)\n",
    "        # )"
   ]
  }
 ],
 "metadata": {
  "kernelspec": {
   "display_name": "pdf-handler",
   "language": "python",
   "name": "python3"
  },
  "language_info": {
   "codemirror_mode": {
    "name": "ipython",
    "version": 3
   },
   "file_extension": ".py",
   "mimetype": "text/x-python",
   "name": "python",
   "nbconvert_exporter": "python",
   "pygments_lexer": "ipython3",
   "version": "3.12.2"
  }
 },
 "nbformat": 4,
 "nbformat_minor": 2
}
